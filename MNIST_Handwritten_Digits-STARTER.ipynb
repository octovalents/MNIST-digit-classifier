{
 "metadata": {
  "kernelspec": {
   "name": "python3",
   "display_name": "Python 3",
   "language": "python"
  },
  "language_info": {
   "name": "python",
   "version": "3.10.10",
   "mimetype": "text/x-python",
   "codemirror_mode": {
    "name": "ipython",
    "version": 3
   },
   "pygments_lexer": "ipython3",
   "nbconvert_exporter": "python",
   "file_extension": ".py"
  }
 },
 "nbformat_minor": 4,
 "nbformat": 4,
 "cells": [
  {
   "cell_type": "markdown",
   "source": [
    "# Introduction\n",
    "\n",
    "In this project, you will build a neural network of your own design to evaluate the MNIST dataset.\n",
    "\n",
    "Some of the benchmark results on MNIST include can be found [on Yann LeCun's page](http://yann.lecun.com/exdb/mnist/) and include:\n",
    "\n",
    "88% [Lecun et al., 1998](http://yann.lecun.com/exdb/publis/pdf/lecun-98.pdf)\n",
    "95.3% [Lecun et al., 1998](http://yann.lecun.com/exdb/publis/pdf/lecun-98.pdf)\n",
    "99.65% [Ciresan et al., 2011](http://people.idsia.ch/~juergen/ijcai2011.pdf)\n",
    "\n",
    "MNIST is a great dataset for sanity checking your models, since the accuracy levels achieved by large convolutional neural networks and small linear models are both quite high. This makes it important to be familiar with the data.\n",
    "\n",
    "## 1. | Imports"
   ],
   "metadata": {}
  },
  {
   "cell_type": "code",
   "source": [
    "## This cell contains the essential imports you will need – DO NOT CHANGE THE CONTENTS! ##\n",
    "import torch\n",
    "import torch.nn as nn\n",
    "import torch.nn.functional as F\n",
    "import torch.optim as optim\n",
    "import torchvision\n",
    "import torchvision.transforms as transforms\n",
    "import matplotlib.pyplot as plt\n",
    "import numpy as np\n",
    "\n",
    "from torch.utils.data import random_split"
   ],
   "metadata": {
    "execution": {
     "iopub.status.busy": "2023-06-06T14:24:45.849586Z",
     "iopub.execute_input": "2023-06-06T14:24:45.850037Z",
     "iopub.status.idle": "2023-06-06T14:24:48.376729Z",
     "shell.execute_reply.started": "2023-06-06T14:24:45.850000Z",
     "shell.execute_reply": "2023-06-06T14:24:48.375629Z"
    },
    "trusted": true
   },
   "execution_count": 1,
   "outputs": []
  },
  {
   "cell_type": "markdown",
   "source": [
    "## 2. | Load the Dataset\n",
    "\n",
    "Specify your transforms as a list if you intend to .\n",
    "The transforms module is already loaded as `transforms`.\n",
    "\n",
    "MNIST is fortunately included in the torchvision module.\n",
    "Then, you can create your dataset using the `MNIST` object from `torchvision.datasets` ([the documentation is available here](https://pytorch.org/vision/stable/datasets.html#mnist)).\n",
    "Make sure to specify `download=True`! \n",
    "\n",
    "Once your dataset is created, you'll also need to define a `DataLoader` from the `torch.utils.data` module for both the train and the test set."
   ],
   "metadata": {}
  },
  {
   "cell_type": "code",
   "source": [
    "# Define transforms\n",
    "transform = transform=transforms.Compose([\n",
    "    transforms.ToTensor(),\n",
    "    transforms.Normalize((0.1307,), (0.3081,))\n",
    "])\n",
    "\n",
    "DATA_PATH = './data'\n",
    "VALID_SIZE = 0.1\n",
    "BATCH_SIZE = 64\n",
    "\n",
    "# Create training set and define training dataloader\n",
    "train_set = torchvision.datasets.MNIST(\n",
    "    DATA_PATH,\n",
    "    train=True,\n",
    "    download=True,\n",
    "    transform=transform\n",
    ")\n",
    "\n",
    "# Create test set and define test dataloader\n",
    "test_set = torchvision.datasets.MNIST(\n",
    "    DATA_PATH,\n",
    "    train=False,\n",
    "    download=True,\n",
    "    transform=transform\n",
    ")\n",
    "\n",
    "# ADD VALIDATION DATA\n",
    "num_train = len(train_set)\n",
    "indices = list(range(num_train)) # get indices of train\n",
    "np.random.shuffle(indices)\n",
    "split = int(np.floor(VALID_SIZE * num_train))\n",
    "train_idx, valid_idx = indices[split:], indices[:split] # split data\n",
    "\n",
    "# define samplers for training and validation batches\n",
    "train_sampler = torch.utils.data.SubsetRandomSampler(train_idx)\n",
    "valid_sampler = torch.utils.data.SubsetRandomSampler(valid_idx)\n",
    "\n",
    "train_loader = torch.utils.data.DataLoader(\n",
    "    dataset=train_set,\n",
    "    batch_size=BATCH_SIZE,\n",
    "    sampler=train_sampler\n",
    ")\n",
    "\n",
    "valid_loader = torch.utils.data.DataLoader(\n",
    "    dataset=train_set,\n",
    "    batch_size=BATCH_SIZE,\n",
    "    sampler=valid_sampler\n",
    ")\n",
    "\n",
    "test_loader = torch.utils.data.DataLoader(\n",
    "    dataset=test_set,\n",
    "    batch_size=BATCH_SIZE,\n",
    "    shuffle=True\n",
    ")"
   ],
   "metadata": {
    "execution": {
     "iopub.status.busy": "2023-06-06T14:24:48.381863Z",
     "iopub.execute_input": "2023-06-06T14:24:48.384388Z",
     "iopub.status.idle": "2023-06-06T14:24:49.363416Z",
     "shell.execute_reply.started": "2023-06-06T14:24:48.384352Z",
     "shell.execute_reply": "2023-06-06T14:24:49.362474Z"
    },
    "trusted": true
   },
   "execution_count": 2,
   "outputs": [
    {
     "name": "stdout",
     "text": "Downloading http://yann.lecun.com/exdb/mnist/train-images-idx3-ubyte.gz\nDownloading http://yann.lecun.com/exdb/mnist/train-images-idx3-ubyte.gz to ./data/MNIST/raw/train-images-idx3-ubyte.gz\n",
     "output_type": "stream"
    },
    {
     "name": "stderr",
     "text": "100%|██████████| 9912422/9912422 [00:00<00:00, 227827096.82it/s]",
     "output_type": "stream"
    },
    {
     "name": "stdout",
     "text": "Extracting ./data/MNIST/raw/train-images-idx3-ubyte.gz to ./data/MNIST/raw\n",
     "output_type": "stream"
    },
    {
     "name": "stderr",
     "text": "\n",
     "output_type": "stream"
    },
    {
     "name": "stdout",
     "text": "\nDownloading http://yann.lecun.com/exdb/mnist/train-labels-idx1-ubyte.gz\nDownloading http://yann.lecun.com/exdb/mnist/train-labels-idx1-ubyte.gz to ./data/MNIST/raw/train-labels-idx1-ubyte.gz\n",
     "output_type": "stream"
    },
    {
     "name": "stderr",
     "text": "100%|██████████| 28881/28881 [00:00<00:00, 77156492.88it/s]\n",
     "output_type": "stream"
    },
    {
     "name": "stdout",
     "text": "Extracting ./data/MNIST/raw/train-labels-idx1-ubyte.gz to ./data/MNIST/raw\n\nDownloading http://yann.lecun.com/exdb/mnist/t10k-images-idx3-ubyte.gz\nDownloading http://yann.lecun.com/exdb/mnist/t10k-images-idx3-ubyte.gz to ./data/MNIST/raw/t10k-images-idx3-ubyte.gz\n",
     "output_type": "stream"
    },
    {
     "name": "stderr",
     "text": "100%|██████████| 1648877/1648877 [00:00<00:00, 66686833.06it/s]",
     "output_type": "stream"
    },
    {
     "name": "stdout",
     "text": "Extracting ./data/MNIST/raw/t10k-images-idx3-ubyte.gz to ./data/MNIST/raw\n",
     "output_type": "stream"
    },
    {
     "name": "stderr",
     "text": "\n",
     "output_type": "stream"
    },
    {
     "name": "stdout",
     "text": "\nDownloading http://yann.lecun.com/exdb/mnist/t10k-labels-idx1-ubyte.gz\nDownloading http://yann.lecun.com/exdb/mnist/t10k-labels-idx1-ubyte.gz to ./data/MNIST/raw/t10k-labels-idx1-ubyte.gz\n",
     "output_type": "stream"
    },
    {
     "name": "stderr",
     "text": "100%|██████████| 4542/4542 [00:00<00:00, 14111502.79it/s]\n",
     "output_type": "stream"
    },
    {
     "name": "stdout",
     "text": "Extracting ./data/MNIST/raw/t10k-labels-idx1-ubyte.gz to ./data/MNIST/raw\n\n",
     "output_type": "stream"
    }
   ]
  },
  {
   "cell_type": "markdown",
   "source": [
    "## 3. | Justify your preprocessing\n",
    "\n",
    "In your own words, why did you choose the transforms you chose? If you didn't use any preprocessing steps, why not?"
   ],
   "metadata": {}
  },
  {
   "cell_type": "markdown",
   "source": [
    "I used this line of code because: \n",
    "1. `transforms.ToTensor()` : This change from PIL image into tensor data types\n",
    "2. `transforms.Normalize((0.1307,), (0.3081,))`: This normalize the tensor"
   ],
   "metadata": {}
  },
  {
   "cell_type": "markdown",
   "source": [
    "## 4. | Explore the Dataset\n",
    "Using matplotlib, numpy, and torch, explore the dimensions of your data.\n",
    "\n",
    "You can view images using the `show5` function defined below – it takes a data loader as an argument.\n",
    "Remember that normalized images will look really weird to you! You may want to try changing your transforms to view images.\n",
    "Typically using no transforms other than `toTensor()` works well for viewing – but not as well for training your network.\n",
    "If `show5` doesn't work, go back and check your code for creating your data loaders and your training/test sets."
   ],
   "metadata": {}
  },
  {
   "cell_type": "code",
   "source": [
    "## This cell contains a function for showing 5 images from a dataloader – DO NOT CHANGE THE CONTENTS! ##\n",
    "def show5(img_loader):\n",
    "    dataiter = iter(img_loader)\n",
    "    \n",
    "    batch = next(dataiter)\n",
    "    labels = batch[1][0:5]\n",
    "    images = batch[0][0:5]\n",
    "    for i in range(5):\n",
    "        print(int(labels[i].detach()))\n",
    "    \n",
    "        image = images[i].numpy()\n",
    "        plt.imshow(image.T.squeeze().T)\n",
    "        plt.show()"
   ],
   "metadata": {
    "execution": {
     "iopub.status.busy": "2023-06-06T14:24:49.368014Z",
     "iopub.execute_input": "2023-06-06T14:24:49.370197Z",
     "iopub.status.idle": "2023-06-06T14:24:49.378648Z",
     "shell.execute_reply.started": "2023-06-06T14:24:49.370165Z",
     "shell.execute_reply": "2023-06-06T14:24:49.377762Z"
    },
    "trusted": true
   },
   "execution_count": 3,
   "outputs": []
  },
  {
   "cell_type": "code",
   "source": [
    "# Explore data\n",
    "print(\"Training set:\")\n",
    "print(\"Number of samples:\", len(train_set))\n",
    "print(\"Shape of train image:\", train_set[0][0].shape)\n",
    "\n",
    "print(\"\\nTest set:\")\n",
    "print(\"Number of samples:\", len(test_set))\n",
    "print(\"Shape of test image:\", test_set[0][0].shape)"
   ],
   "metadata": {
    "execution": {
     "iopub.status.busy": "2023-06-06T14:24:49.384703Z",
     "iopub.execute_input": "2023-06-06T14:24:49.387169Z",
     "iopub.status.idle": "2023-06-06T14:24:49.429097Z",
     "shell.execute_reply.started": "2023-06-06T14:24:49.387138Z",
     "shell.execute_reply": "2023-06-06T14:24:49.428286Z"
    },
    "trusted": true
   },
   "execution_count": 4,
   "outputs": [
    {
     "name": "stdout",
     "text": "Training set:\nNumber of samples: 60000\nShape of train image: torch.Size([1, 28, 28])\n\nTest set:\nNumber of samples: 10000\nShape of test image: torch.Size([1, 28, 28])\n",
     "output_type": "stream"
    }
   ]
  },
  {
   "cell_type": "code",
   "source": [
    "show5(train_loader)"
   ],
   "metadata": {
    "execution": {
     "iopub.status.busy": "2023-06-06T14:24:49.432953Z",
     "iopub.execute_input": "2023-06-06T14:24:49.435125Z",
     "iopub.status.idle": "2023-06-06T14:24:51.160499Z",
     "shell.execute_reply.started": "2023-06-06T14:24:49.435094Z",
     "shell.execute_reply": "2023-06-06T14:24:51.159626Z"
    },
    "trusted": true
   },
   "execution_count": 5,
   "outputs": [
    {
     "name": "stdout",
     "text": "4\n",
     "output_type": "stream"
    },
    {
     "output_type": "display_data",
     "data": {
      "text/plain": "<Figure size 640x480 with 1 Axes>",
      "image/png": "[encoded data removed]"
     },
     "metadata": {}
    },
    {
     "name": "stdout",
     "text": "7\n",
     "output_type": "stream"
    },
    {
     "output_type": "display_data",
     "data": {
      "text/plain": "<Figure size 640x480 with 1 Axes>",
      "image/png": "[encoded data removed]"
     },
     "metadata": {}
    },
    {
     "name": "stdout",
     "text": "7\n",
     "output_type": "stream"
    },
    {
     "output_type": "display_data",
     "data": {
      "text/plain": "<Figure size 640x480 with 1 Axes>",
      "image/png": "[encoded data removed]"
     },
     "metadata": {}
    },
    {
     "name": "stdout",
     "text": "6\n",
     "output_type": "stream"
    },
    {
     "output_type": "display_data",
     "data": {
      "text/plain": "<Figure size 640x480 with 1 Axes>",
      "image/png": "[encoded data removed]"
     },
     "metadata": {}
    },
    {
     "name": "stdout",
     "text": "4\n",
     "output_type": "stream"
    },
    {
     "output_type": "display_data",
     "data": {
      "text/plain": "<Figure size 640x480 with 1 Axes>",
      "image/png": "[encoded data removed]"
     },
     "metadata": {}
    }
   ]
  },
  {
   "cell_type": "code",
   "source": [
    "show5(test_loader)"
   ],
   "metadata": {
    "execution": {
     "iopub.status.busy": "2023-06-06T14:24:51.164874Z",
     "iopub.execute_input": "2023-06-06T14:24:51.167063Z",
     "iopub.status.idle": "2023-06-06T14:24:52.408952Z",
     "shell.execute_reply.started": "2023-06-06T14:24:51.167029Z",
     "shell.execute_reply": "2023-06-06T14:24:52.408028Z"
    },
    "trusted": true
   },
   "execution_count": 6,
   "outputs": [
    {
     "name": "stdout",
     "text": "2\n",
     "output_type": "stream"
    },
    {
     "output_type": "display_data",
     "data": {
      "text/plain": "<Figure size 640x480 with 1 Axes>",
      "image/png": "[encoded data removed]"
     },
     "metadata": {}
    },
    {
     "name": "stdout",
     "text": "8\n",
     "output_type": "stream"
    },
    {
     "output_type": "display_data",
     "data": {
      "text/plain": "<Figure size 640x480 with 1 Axes>",
      "image/png": "[encoded data removed]"
     },
     "metadata": {}
    },
    {
     "name": "stdout",
     "text": "0\n",
     "output_type": "stream"
    },
    {
     "output_type": "display_data",
     "data": {
      "text/plain": "<Figure size 640x480 with 1 Axes>",
      "image/png": "[encoded data removed]"
     },
     "metadata": {}
    },
    {
     "name": "stdout",
     "text": "6\n",
     "output_type": "stream"
    },
    {
     "output_type": "display_data",
     "data": {
      "text/plain": "<Figure size 640x480 with 1 Axes>",
      "image/png": "[encoded data removed]"
     },
     "metadata": {}
    },
    {
     "name": "stdout",
     "text": "7\n",
     "output_type": "stream"
    },
    {
     "output_type": "display_data",
     "data": {
      "text/plain": "<Figure size 640x480 with 1 Axes>",
      "image/png": "[encoded data removed]"
     },
     "metadata": {}
    }
   ]
  },
  {
   "cell_type": "markdown",
   "source": [
    "## 5. | Build your Neural Network\n",
    "Using the layers in `torch.nn` (which has been imported as `nn`) and the `torch.nn.functional` module (imported as `F`), construct a neural network based on the parameters of the dataset.\n",
    "Use any architecture you like. \n",
    "\n",
    "*Note*: If you did not flatten your tensors in your transforms or as part of your preprocessing and you are using only `Linear` layers, make sure to use the `Flatten` layer in your network!"
   ],
   "metadata": {}
  },
  {
   "cell_type": "code",
   "source": [
    "class NeuralNetwork(nn.Module):\n",
    "    def __init__(self):\n",
    "        super(NeuralNetwork, self).__init__()\n",
    "        self.flatten = nn.Flatten()\n",
    "        self.fc1 = nn.Linear(28 * 28, 128)\n",
    "        self.fc2 = nn.Linear(128, 64)\n",
    "        self.fc3 = nn.Linear(64, 10)\n",
    "\n",
    "    def forward(self, x):\n",
    "        x = self.flatten(x)\n",
    "        x = F.relu(self.fc1(x))\n",
    "        x = F.relu(self.fc2(x))\n",
    "        x = self.fc3(x)\n",
    "        return x\n",
    "\n",
    "model = NeuralNetwork()"
   ],
   "metadata": {
    "execution": {
     "iopub.status.busy": "2023-06-06T14:24:52.410563Z",
     "iopub.execute_input": "2023-06-06T14:24:52.410927Z",
     "iopub.status.idle": "2023-06-06T14:24:52.421061Z",
     "shell.execute_reply.started": "2023-06-06T14:24:52.410894Z",
     "shell.execute_reply": "2023-06-06T14:24:52.420222Z"
    },
    "trusted": true
   },
   "execution_count": 7,
   "outputs": []
  },
  {
   "cell_type": "markdown",
   "source": [
    "Specify a loss function and an optimizer, and instantiate the model.\n",
    "\n",
    "If you use a less common loss function, please note why you chose that loss function in a comment."
   ],
   "metadata": {}
  },
  {
   "cell_type": "code",
   "source": [
    "loss_fn = nn.CrossEntropyLoss()\n",
    "optimizer = optim.Adam(model.parameters())"
   ],
   "metadata": {
    "execution": {
     "iopub.status.busy": "2023-06-06T14:24:52.422568Z",
     "iopub.execute_input": "2023-06-06T14:24:52.422913Z",
     "iopub.status.idle": "2023-06-06T14:24:52.428523Z",
     "shell.execute_reply.started": "2023-06-06T14:24:52.422882Z",
     "shell.execute_reply": "2023-06-06T14:24:52.427550Z"
    },
    "trusted": true
   },
   "execution_count": 8,
   "outputs": []
  },
  {
   "cell_type": "markdown",
   "source": [
    "## 6. | Running your Neural Network\n",
    "Use whatever method you like to train your neural network, and ensure you record the average loss at each epoch. \n",
    "Don't forget to use `torch.device()` and the `.to()` method for both your model and your data if you are using GPU!\n",
    "\n",
    "If you want to print your loss **during** each epoch, you can use the `enumerate` function and print the loss after a set number of batches. 250 batches works well for most people!"
   ],
   "metadata": {}
  },
  {
   "cell_type": "code",
   "source": [
    "device = torch.device(\"cuda\" if torch.cuda.is_available() else \"cpu\")\n",
    "\n",
    "# move the model to the device\n",
    "model = model.to(device)\n",
    "\n",
    "num_epochs = 10\n",
    "print_loss_every = 250\n",
    "\n",
    "train_losses = []\n",
    "valid_losses = []\n",
    "\n",
    "for epoch in range(num_epochs):\n",
    "    running_loss = 0.0\n",
    "    for batch_idx, (data, target) in enumerate(train_loader):\n",
    "        # move the data and target to the device\n",
    "        data, target = data.to(device), target.to(device)\n",
    "\n",
    "        optimizer.zero_grad()\n",
    "        output = model(data)\n",
    "        loss = loss_fn(output, target)\n",
    "        loss.backward()\n",
    "        optimizer.step()\n",
    "        running_loss += loss.item()\n",
    "\n",
    "        if (batch_idx + 1) % print_loss_every == 0:\n",
    "            average_loss = running_loss / print_loss_every\n",
    "            print(f\"Epoch [{epoch+1}/{num_epochs}], Batch [{batch_idx+1}/{len(train_loader)}], Loss: {average_loss:.2f}\")\n",
    "            running_loss = 0.0\n",
    "\n",
    "    train_losses.append(average_loss)\n",
    "    \n",
    "    # validation process\n",
    "    model.eval()\n",
    "    valid_loss = 0.0\n",
    "    with torch.no_grad():\n",
    "        for data, target in valid_loader:\n",
    "            data, target = data.to(device), target.to(device)\n",
    "            output = model(data)\n",
    "            loss = loss_fn(output, target)\n",
    "            valid_loss += loss.item()\n",
    "            \n",
    "    average_valid_loss = valid_loss / len(valid_loader)\n",
    "    valid_losses.append(average_valid_loss)\n",
    "    print(f\"Valid Epoch [{epoch+1}/{num_epochs}], Loss: {average_valid_loss:.2f}\")"
   ],
   "metadata": {
    "execution": {
     "iopub.status.busy": "2023-06-06T14:24:52.430094Z",
     "iopub.execute_input": "2023-06-06T14:24:52.430425Z",
     "iopub.status.idle": "2023-06-06T14:27:00.436940Z",
     "shell.execute_reply.started": "2023-06-06T14:24:52.430386Z",
     "shell.execute_reply": "2023-06-06T14:27:00.435989Z"
    },
    "trusted": true
   },
   "execution_count": 9,
   "outputs": [
    {
     "name": "stdout",
     "text": "Epoch [1/10], Batch [250/844], Loss: 0.48\nEpoch [1/10], Batch [500/844], Loss: 0.24\nEpoch [1/10], Batch [750/844], Loss: 0.18\nValid Epoch [1/10], Loss: 0.16\nEpoch [2/10], Batch [250/844], Loss: 0.13\nEpoch [2/10], Batch [500/844], Loss: 0.12\nEpoch [2/10], Batch [750/844], Loss: 0.11\nValid Epoch [2/10], Loss: 0.13\nEpoch [3/10], Batch [250/844], Loss: 0.08\nEpoch [3/10], Batch [500/844], Loss: 0.08\nEpoch [3/10], Batch [750/844], Loss: 0.08\nValid Epoch [3/10], Loss: 0.10\nEpoch [4/10], Batch [250/844], Loss: 0.06\nEpoch [4/10], Batch [500/844], Loss: 0.07\nEpoch [4/10], Batch [750/844], Loss: 0.06\nValid Epoch [4/10], Loss: 0.09\nEpoch [5/10], Batch [250/844], Loss: 0.04\nEpoch [5/10], Batch [500/844], Loss: 0.05\nEpoch [5/10], Batch [750/844], Loss: 0.06\nValid Epoch [5/10], Loss: 0.09\nEpoch [6/10], Batch [250/844], Loss: 0.04\nEpoch [6/10], Batch [500/844], Loss: 0.04\nEpoch [6/10], Batch [750/844], Loss: 0.05\nValid Epoch [6/10], Loss: 0.08\nEpoch [7/10], Batch [250/844], Loss: 0.03\nEpoch [7/10], Batch [500/844], Loss: 0.03\nEpoch [7/10], Batch [750/844], Loss: 0.04\nValid Epoch [7/10], Loss: 0.09\nEpoch [8/10], Batch [250/844], Loss: 0.03\nEpoch [8/10], Batch [500/844], Loss: 0.03\nEpoch [8/10], Batch [750/844], Loss: 0.03\nValid Epoch [8/10], Loss: 0.09\nEpoch [9/10], Batch [250/844], Loss: 0.02\nEpoch [9/10], Batch [500/844], Loss: 0.03\nEpoch [9/10], Batch [750/844], Loss: 0.03\nValid Epoch [9/10], Loss: 0.10\nEpoch [10/10], Batch [250/844], Loss: 0.02\nEpoch [10/10], Batch [500/844], Loss: 0.02\nEpoch [10/10], Batch [750/844], Loss: 0.03\nValid Epoch [10/10], Loss: 0.09\n",
     "output_type": "stream"
    }
   ]
  },
  {
   "cell_type": "markdown",
   "source": [
    "Plot the training loss (and validation loss/accuracy, if recorded)."
   ],
   "metadata": {}
  },
  {
   "cell_type": "code",
   "source": [
    "plt.plot(range(1, num_epochs+1), train_losses, label='Training Loss')\n",
    "plt.plot(range(1, num_epochs+1), valid_losses, label='Validation Loss')\n",
    "plt.xlabel('Epoch')\n",
    "plt.ylabel('Loss')\n",
    "plt.title('Training and Validation Loss')\n",
    "plt.legend()\n",
    "plt.show()\n"
   ],
   "metadata": {
    "execution": {
     "iopub.status.busy": "2023-06-06T14:27:00.440302Z",
     "iopub.execute_input": "2023-06-06T14:27:00.441293Z",
     "iopub.status.idle": "2023-06-06T14:27:00.729286Z",
     "shell.execute_reply.started": "2023-06-06T14:27:00.441259Z",
     "shell.execute_reply": "2023-06-06T14:27:00.728448Z"
    },
    "trusted": true
   },
   "execution_count": 10,
   "outputs": [
    {
     "output_type": "display_data",
     "data": {
      "text/plain": "<Figure size 640x480 with 1 Axes>",
      "image/png": "[encoded data removed]"
     },
     "metadata": {}
    }
   ]
  },
  {
   "cell_type": "markdown",
   "source": [
    "!!! Important Note: \n",
    "\n",
    "    From training and validation loss plot above, training loss is improved but the validation loss is not improved and getting higher. This indicate that the model is overfitting."
   ],
   "metadata": {}
  },
  {
   "cell_type": "markdown",
   "source": [
    "## 7. | Testing your model\n",
    "Using the previously created `DataLoader` for the test set, compute the percentage of correct predictions using the highest probability prediction. \n",
    "\n",
    "If your accuracy is over 90%, great work, but see if you can push a bit further! \n",
    "If your accuracy is under 90%, you'll need to make improvements.\n",
    "Go back and check your model architecture, loss function, and optimizer to make sure they're appropriate for an image classification task."
   ],
   "metadata": {}
  },
  {
   "cell_type": "code",
   "source": [
    "correct = 0\n",
    "total = 0\n",
    "\n",
    "# set the model to evaluation mode\n",
    "model.eval()\n",
    "\n",
    "# disable gradient calculation\n",
    "with torch.no_grad():\n",
    "    for data, target in test_loader:\n",
    "        # move the data and target to the device\n",
    "        data, target = data.to(device), target.to(device)\n",
    "\n",
    "        output = model(data)\n",
    "        _, predicted = torch.max(output.data, 1)\n",
    "        \n",
    "        correct += (predicted == target).sum().item()\n",
    "        total += target.size(0)\n",
    "\n",
    "accuracy = 100 * correct / total\n",
    "print('Accuracy: {:.2f}%'.format(accuracy))"
   ],
   "metadata": {
    "execution": {
     "iopub.status.busy": "2023-06-06T14:27:00.730501Z",
     "iopub.execute_input": "2023-06-06T14:27:00.731841Z",
     "iopub.status.idle": "2023-06-06T14:27:02.573864Z",
     "shell.execute_reply.started": "2023-06-06T14:27:00.731806Z",
     "shell.execute_reply": "2023-06-06T14:27:02.572899Z"
    },
    "trusted": true
   },
   "execution_count": 11,
   "outputs": [
    {
     "name": "stdout",
     "text": "Accuracy: 97.45%\n",
     "output_type": "stream"
    }
   ]
  },
  {
   "cell_type": "markdown",
   "source": [
    "## 8. | Improving your model\n",
    "\n",
    "Once your model is done training, try tweaking your hyperparameters and training again below to improve your accuracy on the test set!"
   ],
   "metadata": {}
  },
  {
   "cell_type": "code",
   "source": [
    "class NeuralNetwork(nn.Module):\n",
    "    def __init__(self):\n",
    "        super(NeuralNetwork, self).__init__()\n",
    "        self.conv1 = nn.Conv2d(1, 32, kernel_size=3, padding=1)\n",
    "        self.conv2 = nn.Conv2d(32, 64, kernel_size=3, padding=1)\n",
    "        self.dropout1 = nn.Dropout2d(0.25)\n",
    "        self.dropout2 = nn.Dropout2d(0.5)\n",
    "        \n",
    "        self.fc1 = nn.Linear(64*7*7, 128)\n",
    "        self.fc2 = nn.Linear(128, 10)\n",
    "\n",
    "    def forward(self, x):\n",
    "        x = F.relu(self.conv1(x))\n",
    "        x = F.max_pool2d(x, 2)\n",
    "        x = self.dropout1(x)\n",
    "        \n",
    "        x = F.relu(self.conv2(x))\n",
    "        x = F.max_pool2d(x, 2)\n",
    "        x = self.dropout1(x)\n",
    "\n",
    "        x = x.view(-1, 64*7*7)\n",
    "        x = F.relu(self.fc1(x))\n",
    "        x = self.dropout2(x)\n",
    "        x = self.fc2(x)\n",
    "\n",
    "        output = F.log_softmax(x, dim=1)\n",
    "        return output"
   ],
   "metadata": {
    "execution": {
     "iopub.status.busy": "2023-06-06T14:48:19.893795Z",
     "iopub.execute_input": "2023-06-06T14:48:19.894142Z",
     "iopub.status.idle": "2023-06-06T14:48:19.905098Z",
     "shell.execute_reply.started": "2023-06-06T14:48:19.894111Z",
     "shell.execute_reply": "2023-06-06T14:48:19.903987Z"
    },
    "trusted": true
   },
   "execution_count": 43,
   "outputs": []
  },
  {
   "cell_type": "code",
   "source": [
    "loss_fn = nn.CrossEntropyLoss()\n",
    "\n",
    "optimizer = optim.Adam(\n",
    "    model.parameters(), \n",
    "    lr=1e-3\n",
    ")"
   ],
   "metadata": {
    "execution": {
     "iopub.status.busy": "2023-06-06T14:48:21.208862Z",
     "iopub.execute_input": "2023-06-06T14:48:21.209196Z",
     "iopub.status.idle": "2023-06-06T14:48:21.214349Z",
     "shell.execute_reply.started": "2023-06-06T14:48:21.209167Z",
     "shell.execute_reply": "2023-06-06T14:48:21.213345Z"
    },
    "trusted": true
   },
   "execution_count": 44,
   "outputs": []
  },
  {
   "cell_type": "code",
   "source": [
    "device = torch.device(\"cuda\" if torch.cuda.is_available() else \"cpu\")\n",
    "\n",
    "# move the model to the device\n",
    "model = model.to(device)\n",
    "\n",
    "num_epochs = 10\n",
    "print_loss_every = 250\n",
    "\n",
    "train_losses = []\n",
    "valid_losses = []\n",
    "\n",
    "for epoch in range(num_epochs):\n",
    "    running_loss = 0.0\n",
    "    for batch_idx, (data, target) in enumerate(train_loader):\n",
    "        # move the data and target to the device\n",
    "        data, target = data.to(device), target.to(device)\n",
    "\n",
    "        optimizer.zero_grad()\n",
    "        output = model(data)\n",
    "        loss = loss_fn(output, target)\n",
    "        loss.backward()\n",
    "        optimizer.step()\n",
    "        running_loss += loss.item()\n",
    "\n",
    "        if (batch_idx + 1) % print_loss_every == 0:\n",
    "            average_loss = running_loss / print_loss_every\n",
    "            print(f\"Epoch [{epoch+1}/{num_epochs}], Batch [{batch_idx+1}/{len(train_loader)}], Loss: {average_loss:.2f}\")\n",
    "            running_loss = 0.0\n",
    "\n",
    "    train_losses.append(average_loss)\n",
    "    \n",
    "    # validation process\n",
    "    model.eval()\n",
    "    valid_loss = 0.0\n",
    "    with torch.no_grad():\n",
    "        for data, target in valid_loader:\n",
    "            data, target = data.to(device), target.to(device)\n",
    "            output = model(data)\n",
    "            loss = loss_fn(output, target)\n",
    "            valid_loss += loss.item()\n",
    "            \n",
    "    average_valid_loss = valid_loss / len(valid_loader)\n",
    "    valid_losses.append(average_valid_loss)\n",
    "    print(f\"Valid Epoch [{epoch+1}/{num_epochs}], Loss: {average_valid_loss:.2f}\")"
   ],
   "metadata": {
    "execution": {
     "iopub.status.busy": "2023-06-06T14:48:21.972540Z",
     "iopub.execute_input": "2023-06-06T14:48:21.973408Z",
     "iopub.status.idle": "2023-06-06T14:50:28.205236Z",
     "shell.execute_reply.started": "2023-06-06T14:48:21.973378Z",
     "shell.execute_reply": "2023-06-06T14:50:28.204302Z"
    },
    "trusted": true
   },
   "execution_count": 45,
   "outputs": [
    {
     "name": "stdout",
     "text": "Epoch [1/10], Batch [250/844], Loss: 0.01\nEpoch [1/10], Batch [500/844], Loss: 0.01\nEpoch [1/10], Batch [750/844], Loss: 0.01\nValid Epoch [1/10], Loss: 0.38\nEpoch [2/10], Batch [250/844], Loss: 0.01\nEpoch [2/10], Batch [500/844], Loss: 0.01\nEpoch [2/10], Batch [750/844], Loss: 0.01\nValid Epoch [2/10], Loss: 0.37\nEpoch [3/10], Batch [250/844], Loss: 0.01\nEpoch [3/10], Batch [500/844], Loss: 0.01\nEpoch [3/10], Batch [750/844], Loss: 0.01\nValid Epoch [3/10], Loss: 0.40\nEpoch [4/10], Batch [250/844], Loss: 0.01\nEpoch [4/10], Batch [500/844], Loss: 0.01\nEpoch [4/10], Batch [750/844], Loss: 0.01\nValid Epoch [4/10], Loss: 0.41\nEpoch [5/10], Batch [250/844], Loss: 0.01\nEpoch [5/10], Batch [500/844], Loss: 0.01\nEpoch [5/10], Batch [750/844], Loss: 0.01\nValid Epoch [5/10], Loss: 0.40\nEpoch [6/10], Batch [250/844], Loss: 0.01\nEpoch [6/10], Batch [500/844], Loss: 0.01\nEpoch [6/10], Batch [750/844], Loss: 0.01\nValid Epoch [6/10], Loss: 0.42\nEpoch [7/10], Batch [250/844], Loss: 0.01\nEpoch [7/10], Batch [500/844], Loss: 0.01\nEpoch [7/10], Batch [750/844], Loss: 0.01\nValid Epoch [7/10], Loss: 0.39\nEpoch [8/10], Batch [250/844], Loss: 0.01\nEpoch [8/10], Batch [500/844], Loss: 0.01\nEpoch [8/10], Batch [750/844], Loss: 0.02\nValid Epoch [8/10], Loss: 0.39\nEpoch [9/10], Batch [250/844], Loss: 0.01\nEpoch [9/10], Batch [500/844], Loss: 0.01\nEpoch [9/10], Batch [750/844], Loss: 0.01\nValid Epoch [9/10], Loss: 0.40\nEpoch [10/10], Batch [250/844], Loss: 0.01\nEpoch [10/10], Batch [500/844], Loss: 0.01\nEpoch [10/10], Batch [750/844], Loss: 0.01\nValid Epoch [10/10], Loss: 0.42\n",
     "output_type": "stream"
    }
   ]
  },
  {
   "cell_type": "code",
   "source": [
    "plt.plot(range(1, num_epochs+1), train_losses, label='Training Loss')\n",
    "plt.plot(range(1, num_epochs+1), valid_losses, label='Validation Loss')\n",
    "plt.xlabel('Epoch')\n",
    "plt.ylabel('Loss')\n",
    "plt.title('Training and Validation Loss')\n",
    "plt.legend()\n",
    "plt.show()"
   ],
   "metadata": {
    "execution": {
     "iopub.status.busy": "2023-06-06T14:50:28.207126Z",
     "iopub.execute_input": "2023-06-06T14:50:28.207564Z",
     "iopub.status.idle": "2023-06-06T14:50:28.469282Z",
     "shell.execute_reply.started": "2023-06-06T14:50:28.207529Z",
     "shell.execute_reply": "2023-06-06T14:50:28.468455Z"
    },
    "trusted": true
   },
   "execution_count": 46,
   "outputs": [
    {
     "output_type": "display_data",
     "data": {
      "text/plain": "<Figure size 640x480 with 1 Axes>",
      "image/png": "[encoded data removed]"
     },
     "metadata": {}
    }
   ]
  },
  {
   "cell_type": "code",
   "source": [
    "correct = 0\n",
    "total = 0\n",
    "\n",
    "# set the model to evaluation mode\n",
    "model.eval()\n",
    "\n",
    "# disable gradient calculation\n",
    "with torch.no_grad():\n",
    "    for data, target in test_loader:\n",
    "        # move the data and target to the device\n",
    "        data, target = data.to(device), target.to(device)\n",
    "\n",
    "        output = model(data)\n",
    "        _, predicted = torch.max(output.data, 1)\n",
    "        \n",
    "        correct += (predicted == target).sum().item()\n",
    "        total += target.size(0)\n",
    "\n",
    "accuracy = 100 * correct / total\n",
    "print('Accuracy: {:.2f}%'.format(accuracy))"
   ],
   "metadata": {
    "execution": {
     "iopub.status.busy": "2023-06-06T14:50:28.470765Z",
     "iopub.execute_input": "2023-06-06T14:50:28.471415Z",
     "iopub.status.idle": "2023-06-06T14:50:30.325338Z",
     "shell.execute_reply.started": "2023-06-06T14:50:28.471381Z",
     "shell.execute_reply": "2023-06-06T14:50:30.324390Z"
    },
    "trusted": true
   },
   "execution_count": 47,
   "outputs": [
    {
     "name": "stdout",
     "text": "Accuracy: 97.61%\n",
     "output_type": "stream"
    }
   ]
  },
  {
   "cell_type": "markdown",
   "source": [
    "## 9. | Saving your model\n",
    "Using `torch.save`, save your model for future loading."
   ],
   "metadata": {}
  },
  {
   "cell_type": "code",
   "source": [
    "# Define the path to save the model\n",
    "MODEL_PATH = '/kaggle/working/model.pth'\n",
    "\n",
    "# Save the model\n",
    "torch.save(model.state_dict(), MODEL_PATH)\n",
    "\n",
    "print(\"Model saved successfully!\")"
   ],
   "metadata": {
    "execution": {
     "iopub.status.busy": "2023-06-06T14:51:31.970634Z",
     "iopub.execute_input": "2023-06-06T14:51:31.970983Z",
     "iopub.status.idle": "2023-06-06T14:51:31.982185Z",
     "shell.execute_reply.started": "2023-06-06T14:51:31.970956Z",
     "shell.execute_reply": "2023-06-06T14:51:31.981081Z"
    },
    "trusted": true
   },
   "execution_count": 49,
   "outputs": [
    {
     "name": "stdout",
     "text": "Model saved successfully!\n",
     "output_type": "stream"
    }
   ]
  }
 ]
}
